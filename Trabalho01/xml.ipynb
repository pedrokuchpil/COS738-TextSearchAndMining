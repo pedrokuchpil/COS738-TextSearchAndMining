{
 "cells": [
  {
   "cell_type": "code",
   "execution_count": 1,
   "metadata": {},
   "outputs": [],
   "source": [
    "import os\n",
    "import re\n",
    "\n",
    "from xml.dom import minidom\n",
    "from xml import sax\n",
    "import xml.etree.cElementTree as ET"
   ]
  },
  {
   "cell_type": "markdown",
   "metadata": {},
   "source": [
    "## Utilizando Minidom para obter autores\n",
    "### Minidom é uma biblioteca que possui uma implementação mínima de DOM"
   ]
  },
  {
   "cell_type": "code",
   "execution_count": 2,
   "metadata": {},
   "outputs": [],
   "source": [
    "tree = minidom.parse('data/cf79.xml')\n",
    "names = tree.getElementsByTagName('AUTHOR')"
   ]
  },
  {
   "cell_type": "code",
   "execution_count": 3,
   "metadata": {},
   "outputs": [],
   "source": [
    "authors = open('results/autores.txt', 'w')\n",
    "for n in names:\n",
    "    authors.write(n.firstChild.data + '\\n')\n",
    "\n",
    "authors.close()"
   ]
  },
  {
   "cell_type": "markdown",
   "metadata": {},
   "source": [
    "## Utilizando SAX para obter títulos"
   ]
  },
  {
   "cell_type": "code",
   "execution_count": 4,
   "metadata": {},
   "outputs": [],
   "source": [
    "class ArticleHandler( sax.ContentHandler ):\n",
    "    def __init__(self):\n",
    "        self.CurrentData = ''\n",
    "        self.title = ''\n",
    "        self.titles = []\n",
    "        \n",
    "    def startElement(self, tag, attributes):\n",
    "        self.CurrentData = tag\n",
    "\n",
    "    def endElement(self, tag):\n",
    "        if self.CurrentData == 'TITLE':\n",
    "            self.title = self.title.replace('\\n', ' ')\n",
    "            self.titles.append(self.title)\n",
    "            \n",
    "        self.CurrentData = ''\n",
    "        self.title = ''\n",
    "\n",
    "    def characters(self, content):\n",
    "        if self.CurrentData == \"TITLE\":\n",
    "            self.title += content\n",
    "        "
   ]
  },
  {
   "cell_type": "code",
   "execution_count": 5,
   "metadata": {
    "scrolled": false
   },
   "outputs": [],
   "source": [
    "parser = sax.make_parser()\n",
    "Handler = ArticleHandler()\n",
    "parser.setContentHandler(Handler)\n",
    "parser.parse('data/cf79.xml')\n"
   ]
  },
  {
   "cell_type": "code",
   "execution_count": 6,
   "metadata": {},
   "outputs": [],
   "source": [
    "titles = open('results/titulos.txt', 'w')\n",
    "for t in Handler.titles:\n",
    "    titles.write(t + '\\n')\n",
    "\n",
    "titles.close()"
   ]
  },
  {
   "cell_type": "code",
   "execution_count": null,
   "metadata": {},
   "outputs": [],
   "source": []
  }
 ],
 "metadata": {
  "kernelspec": {
   "display_name": "Python 3",
   "language": "python",
   "name": "python3"
  },
  "language_info": {
   "codemirror_mode": {
    "name": "ipython",
    "version": 3
   },
   "file_extension": ".py",
   "mimetype": "text/x-python",
   "name": "python",
   "nbconvert_exporter": "python",
   "pygments_lexer": "ipython3",
   "version": "3.8.5"
  }
 },
 "nbformat": 4,
 "nbformat_minor": 4
}
